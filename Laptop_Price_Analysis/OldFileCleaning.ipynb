{
 "cells": [
  {
   "cell_type": "code",
   "execution_count": 1,
   "metadata": {},
   "outputs": [],
   "source": [
    "import os\n",
    "import pandas as pd\n",
    "import numpy as np\n",
    "import matplotlib.pyplot as plt\n",
    "import seaborn as sb\n",
    "import glob\n"
   ]
  },
  {
   "cell_type": "code",
   "execution_count": 2,
   "metadata": {},
   "outputs": [],
   "source": [
    "os.chdir(\"/Users/janakidevikandukuri/Desktop/digital algorthamic marketing/laptopecomercee\")\n",
    "\n"
   ]
  },
  {
   "cell_type": "code",
   "execution_count": 3,
   "metadata": {},
   "outputs": [],
   "source": [
    "extension = 'csv'\n",
    "all_filenames = [i for i in glob.glob('*.{}'.format(extension))]"
   ]
  },
  {
   "cell_type": "code",
   "execution_count": 4,
   "metadata": {},
   "outputs": [],
   "source": [
    "combined_csv = pd.concat([pd.read_csv(f) for f in all_filenames ])"
   ]
  },
  {
   "cell_type": "code",
   "execution_count": 5,
   "metadata": {},
   "outputs": [
    {
     "data": {
      "text/html": [
       "<div>\n",
       "<style scoped>\n",
       "    .dataframe tbody tr th:only-of-type {\n",
       "        vertical-align: middle;\n",
       "    }\n",
       "\n",
       "    .dataframe tbody tr th {\n",
       "        vertical-align: top;\n",
       "    }\n",
       "\n",
       "    .dataframe thead th {\n",
       "        text-align: right;\n",
       "    }\n",
       "</style>\n",
       "<table border=\"1\" class=\"dataframe\">\n",
       "  <thead>\n",
       "    <tr style=\"text-align: right;\">\n",
       "      <th></th>\n",
       "      <th>page</th>\n",
       "      <th>Merek_Laptop</th>\n",
       "      <th>Nama_Laptop</th>\n",
       "      <th>Harga</th>\n",
       "      <th>Link_Produk</th>\n",
       "    </tr>\n",
       "  </thead>\n",
       "  <tbody>\n",
       "    <tr>\n",
       "      <th>0</th>\n",
       "      <td>https://www.jd.id/category/jual-laptop-8750614...</td>\n",
       "      <td>Ace</td>\n",
       "      <td>Ace-Pad S11 14inch RAM 6GB ROM  1920x1080 p Fu...</td>\n",
       "      <td>4390000</td>\n",
       "      <td>//www.jd.id/product/ace-pad-s11-14inch-ram-6gb...</td>\n",
       "    </tr>\n",
       "    <tr>\n",
       "      <th>1</th>\n",
       "      <td>https://www.jd.id/category/jual-laptop-8750614...</td>\n",
       "      <td>Ace</td>\n",
       "      <td>Ace-Pad S11 14inch RAM 6GB ROM  1920x1080 p Fu...</td>\n",
       "      <td>4399000</td>\n",
       "      <td>//www.jd.id/product/ace-pad-s11-14inch-ram-6gb...</td>\n",
       "    </tr>\n",
       "    <tr>\n",
       "      <th>2</th>\n",
       "      <td>https://www.jd.id/category/jual-laptop-8750614...</td>\n",
       "      <td>Ace</td>\n",
       "      <td>Ace-Pad S11 14inch RAM 6GB ROM  1920x1080 p Fu...</td>\n",
       "      <td>4690000</td>\n",
       "      <td>//www.jd.id/product/ace-pad-s11-14inch-ram-6gb...</td>\n",
       "    </tr>\n",
       "    <tr>\n",
       "      <th>3</th>\n",
       "      <td>https://www.jd.id/category/jual-laptop-8750614...</td>\n",
       "      <td>Ace</td>\n",
       "      <td>Ace-Pad S156  Laptop15.6 inch Windows 10 Engli...</td>\n",
       "      <td>3690000</td>\n",
       "      <td>//www.jd.id/product/ace-pad-s156-laptop15-6-in...</td>\n",
       "    </tr>\n",
       "    <tr>\n",
       "      <th>4</th>\n",
       "      <td>https://www.jd.id/category/jual-laptop-8750614...</td>\n",
       "      <td>Ace</td>\n",
       "      <td>Ace-Pad Z156 15.6inch  6GB RAM 64GB SSD 500GB ...</td>\n",
       "      <td>4690000</td>\n",
       "      <td>//www.jd.id/product/ace-pad-z156-15-6inch-6gb-...</td>\n",
       "    </tr>\n",
       "  </tbody>\n",
       "</table>\n",
       "</div>"
      ],
      "text/plain": [
       "                                                page Merek_Laptop  \\\n",
       "0  https://www.jd.id/category/jual-laptop-8750614...          Ace   \n",
       "1  https://www.jd.id/category/jual-laptop-8750614...          Ace   \n",
       "2  https://www.jd.id/category/jual-laptop-8750614...          Ace   \n",
       "3  https://www.jd.id/category/jual-laptop-8750614...          Ace   \n",
       "4  https://www.jd.id/category/jual-laptop-8750614...          Ace   \n",
       "\n",
       "                                         Nama_Laptop    Harga  \\\n",
       "0  Ace-Pad S11 14inch RAM 6GB ROM  1920x1080 p Fu...  4390000   \n",
       "1  Ace-Pad S11 14inch RAM 6GB ROM  1920x1080 p Fu...  4399000   \n",
       "2  Ace-Pad S11 14inch RAM 6GB ROM  1920x1080 p Fu...  4690000   \n",
       "3  Ace-Pad S156  Laptop15.6 inch Windows 10 Engli...  3690000   \n",
       "4  Ace-Pad Z156 15.6inch  6GB RAM 64GB SSD 500GB ...  4690000   \n",
       "\n",
       "                                         Link_Produk  \n",
       "0  //www.jd.id/product/ace-pad-s11-14inch-ram-6gb...  \n",
       "1  //www.jd.id/product/ace-pad-s11-14inch-ram-6gb...  \n",
       "2  //www.jd.id/product/ace-pad-s11-14inch-ram-6gb...  \n",
       "3  //www.jd.id/product/ace-pad-s156-laptop15-6-in...  \n",
       "4  //www.jd.id/product/ace-pad-z156-15-6inch-6gb-...  "
      ]
     },
     "execution_count": 5,
     "metadata": {},
     "output_type": "execute_result"
    }
   ],
   "source": [
    "combined_csv.head()"
   ]
  },
  {
   "cell_type": "code",
   "execution_count": 6,
   "metadata": {},
   "outputs": [],
   "source": [
    "combined_csv.to_csv(\"Laptop_Dataset.csv\", index=False, encoding='utf-8-sig')"
   ]
  },
  {
   "cell_type": "code",
   "execution_count": 7,
   "metadata": {},
   "outputs": [],
   "source": [
    "# define working directory\n",
    "\n",
    "Laptop_Dataset=pd.read_csv('Laptop_Dataset.csv')"
   ]
  },
  {
   "cell_type": "code",
   "execution_count": 8,
   "metadata": {},
   "outputs": [
    {
     "data": {
      "text/html": [
       "<div>\n",
       "<style scoped>\n",
       "    .dataframe tbody tr th:only-of-type {\n",
       "        vertical-align: middle;\n",
       "    }\n",
       "\n",
       "    .dataframe tbody tr th {\n",
       "        vertical-align: top;\n",
       "    }\n",
       "\n",
       "    .dataframe thead th {\n",
       "        text-align: right;\n",
       "    }\n",
       "</style>\n",
       "<table border=\"1\" class=\"dataframe\">\n",
       "  <thead>\n",
       "    <tr style=\"text-align: right;\">\n",
       "      <th></th>\n",
       "      <th>page</th>\n",
       "      <th>Merek_Laptop</th>\n",
       "      <th>Nama_Laptop</th>\n",
       "      <th>Harga</th>\n",
       "      <th>Link_Produk</th>\n",
       "    </tr>\n",
       "  </thead>\n",
       "  <tbody>\n",
       "    <tr>\n",
       "      <th>0</th>\n",
       "      <td>https://www.jd.id/category/jual-laptop-8750614...</td>\n",
       "      <td>Ace</td>\n",
       "      <td>Ace-Pad S11 14inch RAM 6GB ROM  1920x1080 p Fu...</td>\n",
       "      <td>4390000</td>\n",
       "      <td>//www.jd.id/product/ace-pad-s11-14inch-ram-6gb...</td>\n",
       "    </tr>\n",
       "    <tr>\n",
       "      <th>1</th>\n",
       "      <td>https://www.jd.id/category/jual-laptop-8750614...</td>\n",
       "      <td>Ace</td>\n",
       "      <td>Ace-Pad S11 14inch RAM 6GB ROM  1920x1080 p Fu...</td>\n",
       "      <td>4399000</td>\n",
       "      <td>//www.jd.id/product/ace-pad-s11-14inch-ram-6gb...</td>\n",
       "    </tr>\n",
       "    <tr>\n",
       "      <th>2</th>\n",
       "      <td>https://www.jd.id/category/jual-laptop-8750614...</td>\n",
       "      <td>Ace</td>\n",
       "      <td>Ace-Pad S11 14inch RAM 6GB ROM  1920x1080 p Fu...</td>\n",
       "      <td>4690000</td>\n",
       "      <td>//www.jd.id/product/ace-pad-s11-14inch-ram-6gb...</td>\n",
       "    </tr>\n",
       "    <tr>\n",
       "      <th>3</th>\n",
       "      <td>https://www.jd.id/category/jual-laptop-8750614...</td>\n",
       "      <td>Ace</td>\n",
       "      <td>Ace-Pad S156  Laptop15.6 inch Windows 10 Engli...</td>\n",
       "      <td>3690000</td>\n",
       "      <td>//www.jd.id/product/ace-pad-s156-laptop15-6-in...</td>\n",
       "    </tr>\n",
       "    <tr>\n",
       "      <th>4</th>\n",
       "      <td>https://www.jd.id/category/jual-laptop-8750614...</td>\n",
       "      <td>Ace</td>\n",
       "      <td>Ace-Pad Z156 15.6inch  6GB RAM 64GB SSD 500GB ...</td>\n",
       "      <td>4690000</td>\n",
       "      <td>//www.jd.id/product/ace-pad-z156-15-6inch-6gb-...</td>\n",
       "    </tr>\n",
       "  </tbody>\n",
       "</table>\n",
       "</div>"
      ],
      "text/plain": [
       "                                                page Merek_Laptop  \\\n",
       "0  https://www.jd.id/category/jual-laptop-8750614...          Ace   \n",
       "1  https://www.jd.id/category/jual-laptop-8750614...          Ace   \n",
       "2  https://www.jd.id/category/jual-laptop-8750614...          Ace   \n",
       "3  https://www.jd.id/category/jual-laptop-8750614...          Ace   \n",
       "4  https://www.jd.id/category/jual-laptop-8750614...          Ace   \n",
       "\n",
       "                                         Nama_Laptop    Harga  \\\n",
       "0  Ace-Pad S11 14inch RAM 6GB ROM  1920x1080 p Fu...  4390000   \n",
       "1  Ace-Pad S11 14inch RAM 6GB ROM  1920x1080 p Fu...  4399000   \n",
       "2  Ace-Pad S11 14inch RAM 6GB ROM  1920x1080 p Fu...  4690000   \n",
       "3  Ace-Pad S156  Laptop15.6 inch Windows 10 Engli...  3690000   \n",
       "4  Ace-Pad Z156 15.6inch  6GB RAM 64GB SSD 500GB ...  4690000   \n",
       "\n",
       "                                         Link_Produk  \n",
       "0  //www.jd.id/product/ace-pad-s11-14inch-ram-6gb...  \n",
       "1  //www.jd.id/product/ace-pad-s11-14inch-ram-6gb...  \n",
       "2  //www.jd.id/product/ace-pad-s11-14inch-ram-6gb...  \n",
       "3  //www.jd.id/product/ace-pad-s156-laptop15-6-in...  \n",
       "4  //www.jd.id/product/ace-pad-z156-15-6inch-6gb-...  "
      ]
     },
     "execution_count": 8,
     "metadata": {},
     "output_type": "execute_result"
    }
   ],
   "source": [
    "Laptop_Dataset.head()"
   ]
  },
  {
   "cell_type": "code",
   "execution_count": 9,
   "metadata": {},
   "outputs": [
    {
     "name": "stdout",
     "output_type": "stream",
     "text": [
      "Index(['page', 'Merek_Laptop', 'Nama_Laptop', 'Harga', 'Link_Produk'], dtype='object')\n"
     ]
    }
   ],
   "source": [
    "print (Laptop_Dataset.columns)"
   ]
  },
  {
   "cell_type": "code",
   "execution_count": 10,
   "metadata": {},
   "outputs": [],
   "source": [
    "\n",
    "Laptop_Dataset.rename(columns = {'page':'WebsiteLink', 'Merek_Laptop':'Manufacter', \n",
    "                              'Nama_Laptop':'Product Description','Harga':'Price','Link_Produk':'ProductLink'}, inplace = True)"
   ]
  },
  {
   "cell_type": "code",
   "execution_count": 11,
   "metadata": {},
   "outputs": [
    {
     "name": "stdout",
     "output_type": "stream",
     "text": [
      "Index(['WebsiteLink', 'Manufacter', 'Product Description', 'Price',\n",
      "       'ProductLink'],\n",
      "      dtype='object')\n"
     ]
    }
   ],
   "source": [
    "print (Laptop_Dataset.columns)"
   ]
  },
  {
   "cell_type": "code",
   "execution_count": 12,
   "metadata": {},
   "outputs": [],
   "source": [
    "Laptop_Dataset['Price'] = Laptop_Dataset['Price'].multiply(0.000073)"
   ]
  },
  {
   "cell_type": "code",
   "execution_count": 13,
   "metadata": {},
   "outputs": [
    {
     "data": {
      "text/html": [
       "<div>\n",
       "<style scoped>\n",
       "    .dataframe tbody tr th:only-of-type {\n",
       "        vertical-align: middle;\n",
       "    }\n",
       "\n",
       "    .dataframe tbody tr th {\n",
       "        vertical-align: top;\n",
       "    }\n",
       "\n",
       "    .dataframe thead th {\n",
       "        text-align: right;\n",
       "    }\n",
       "</style>\n",
       "<table border=\"1\" class=\"dataframe\">\n",
       "  <thead>\n",
       "    <tr style=\"text-align: right;\">\n",
       "      <th></th>\n",
       "      <th>WebsiteLink</th>\n",
       "      <th>Manufacter</th>\n",
       "      <th>Product Description</th>\n",
       "      <th>Price</th>\n",
       "      <th>ProductLink</th>\n",
       "    </tr>\n",
       "  </thead>\n",
       "  <tbody>\n",
       "    <tr>\n",
       "      <th>0</th>\n",
       "      <td>https://www.jd.id/category/jual-laptop-8750614...</td>\n",
       "      <td>Ace</td>\n",
       "      <td>Ace-Pad S11 14inch RAM 6GB ROM  1920x1080 p Fu...</td>\n",
       "      <td>320.470</td>\n",
       "      <td>//www.jd.id/product/ace-pad-s11-14inch-ram-6gb...</td>\n",
       "    </tr>\n",
       "    <tr>\n",
       "      <th>1</th>\n",
       "      <td>https://www.jd.id/category/jual-laptop-8750614...</td>\n",
       "      <td>Ace</td>\n",
       "      <td>Ace-Pad S11 14inch RAM 6GB ROM  1920x1080 p Fu...</td>\n",
       "      <td>321.127</td>\n",
       "      <td>//www.jd.id/product/ace-pad-s11-14inch-ram-6gb...</td>\n",
       "    </tr>\n",
       "    <tr>\n",
       "      <th>2</th>\n",
       "      <td>https://www.jd.id/category/jual-laptop-8750614...</td>\n",
       "      <td>Ace</td>\n",
       "      <td>Ace-Pad S11 14inch RAM 6GB ROM  1920x1080 p Fu...</td>\n",
       "      <td>342.370</td>\n",
       "      <td>//www.jd.id/product/ace-pad-s11-14inch-ram-6gb...</td>\n",
       "    </tr>\n",
       "    <tr>\n",
       "      <th>3</th>\n",
       "      <td>https://www.jd.id/category/jual-laptop-8750614...</td>\n",
       "      <td>Ace</td>\n",
       "      <td>Ace-Pad S156  Laptop15.6 inch Windows 10 Engli...</td>\n",
       "      <td>269.370</td>\n",
       "      <td>//www.jd.id/product/ace-pad-s156-laptop15-6-in...</td>\n",
       "    </tr>\n",
       "    <tr>\n",
       "      <th>4</th>\n",
       "      <td>https://www.jd.id/category/jual-laptop-8750614...</td>\n",
       "      <td>Ace</td>\n",
       "      <td>Ace-Pad Z156 15.6inch  6GB RAM 64GB SSD 500GB ...</td>\n",
       "      <td>342.370</td>\n",
       "      <td>//www.jd.id/product/ace-pad-z156-15-6inch-6gb-...</td>\n",
       "    </tr>\n",
       "  </tbody>\n",
       "</table>\n",
       "</div>"
      ],
      "text/plain": [
       "                                         WebsiteLink Manufacter  \\\n",
       "0  https://www.jd.id/category/jual-laptop-8750614...        Ace   \n",
       "1  https://www.jd.id/category/jual-laptop-8750614...        Ace   \n",
       "2  https://www.jd.id/category/jual-laptop-8750614...        Ace   \n",
       "3  https://www.jd.id/category/jual-laptop-8750614...        Ace   \n",
       "4  https://www.jd.id/category/jual-laptop-8750614...        Ace   \n",
       "\n",
       "                                 Product Description    Price  \\\n",
       "0  Ace-Pad S11 14inch RAM 6GB ROM  1920x1080 p Fu...  320.470   \n",
       "1  Ace-Pad S11 14inch RAM 6GB ROM  1920x1080 p Fu...  321.127   \n",
       "2  Ace-Pad S11 14inch RAM 6GB ROM  1920x1080 p Fu...  342.370   \n",
       "3  Ace-Pad S156  Laptop15.6 inch Windows 10 Engli...  269.370   \n",
       "4  Ace-Pad Z156 15.6inch  6GB RAM 64GB SSD 500GB ...  342.370   \n",
       "\n",
       "                                         ProductLink  \n",
       "0  //www.jd.id/product/ace-pad-s11-14inch-ram-6gb...  \n",
       "1  //www.jd.id/product/ace-pad-s11-14inch-ram-6gb...  \n",
       "2  //www.jd.id/product/ace-pad-s11-14inch-ram-6gb...  \n",
       "3  //www.jd.id/product/ace-pad-s156-laptop15-6-in...  \n",
       "4  //www.jd.id/product/ace-pad-z156-15-6inch-6gb-...  "
      ]
     },
     "execution_count": 13,
     "metadata": {},
     "output_type": "execute_result"
    }
   ],
   "source": [
    "Laptop_Dataset.head()"
   ]
  },
  {
   "cell_type": "code",
   "execution_count": 14,
   "metadata": {},
   "outputs": [
    {
     "data": {
      "text/plain": [
       "0"
      ]
     },
     "execution_count": 14,
     "metadata": {},
     "output_type": "execute_result"
    }
   ],
   "source": [
    "Laptop_Dataset.isnull().values.sum()"
   ]
  },
  {
   "cell_type": "code",
   "execution_count": 15,
   "metadata": {},
   "outputs": [
    {
     "data": {
      "text/plain": [
       "array(['Ace', 'ACER', 'Alcatel', 'ALIENWARE', 'ALLDOCUBE', 'Apollo',\n",
       "       'APPLE', 'ASUS', 'AVITA', 'CHUWI', 'DELL', 'Dell', 'Ezbook',\n",
       "       'FUJITSU', 'GIGABYTE', 'Gigabyte', 'HP', 'Jumper', 'LENOVO',\n",
       "       'Lenovo', 'Microsoft', 'MICROSOFT', 'MSI', 'Nexstgo', 'NextBook',\n",
       "       'Onda', 'Original', 'PORSCHE', 'RAZER', 'Redmango', 'T', 'Teclast',\n",
       "       'TECLAST', 'THINKPAD', 'Toshiba', 'Xiaomi', 'XIaomi', 'XIAOMI',\n",
       "       'YEPO', 'ZYREX'], dtype=object)"
      ]
     },
     "execution_count": 15,
     "metadata": {},
     "output_type": "execute_result"
    }
   ],
   "source": [
    "Laptop_Dataset.Manufacter.unique()"
   ]
  },
  {
   "cell_type": "code",
   "execution_count": 16,
   "metadata": {},
   "outputs": [
    {
     "data": {
      "text/plain": [
       "40"
      ]
     },
     "execution_count": 16,
     "metadata": {},
     "output_type": "execute_result"
    }
   ],
   "source": [
    "Laptop_Dataset['Manufacter'].nunique()"
   ]
  },
  {
   "cell_type": "code",
   "execution_count": 18,
   "metadata": {},
   "outputs": [],
   "source": [
    "Laptop_Dataset['Manufacter'] = Laptop_Dataset['Manufacter'].str.upper() "
   ]
  },
  {
   "cell_type": "code",
   "execution_count": 19,
   "metadata": {},
   "outputs": [
    {
     "data": {
      "text/plain": [
       "33"
      ]
     },
     "execution_count": 19,
     "metadata": {},
     "output_type": "execute_result"
    }
   ],
   "source": [
    "Laptop_Dataset['Manufacter'].nunique()"
   ]
  },
  {
   "cell_type": "code",
   "execution_count": 21,
   "metadata": {},
   "outputs": [
    {
     "data": {
      "text/html": [
       "<div>\n",
       "<style scoped>\n",
       "    .dataframe tbody tr th:only-of-type {\n",
       "        vertical-align: middle;\n",
       "    }\n",
       "\n",
       "    .dataframe tbody tr th {\n",
       "        vertical-align: top;\n",
       "    }\n",
       "\n",
       "    .dataframe thead th {\n",
       "        text-align: right;\n",
       "    }\n",
       "</style>\n",
       "<table border=\"1\" class=\"dataframe\">\n",
       "  <thead>\n",
       "    <tr style=\"text-align: right;\">\n",
       "      <th></th>\n",
       "      <th>WebsiteLink</th>\n",
       "      <th>Manufacter</th>\n",
       "      <th>Product Description</th>\n",
       "      <th>Price</th>\n",
       "      <th>ProductLink</th>\n",
       "    </tr>\n",
       "  </thead>\n",
       "  <tbody>\n",
       "    <tr>\n",
       "      <th>0</th>\n",
       "      <td>https://www.jd.id/category/jual-laptop-8750614...</td>\n",
       "      <td>ACE</td>\n",
       "      <td>Ace-Pad S11 14inch RAM 6GB ROM  1920x1080 p Fu...</td>\n",
       "      <td>320.470</td>\n",
       "      <td>//www.jd.id/product/ace-pad-s11-14inch-ram-6gb...</td>\n",
       "    </tr>\n",
       "    <tr>\n",
       "      <th>1</th>\n",
       "      <td>https://www.jd.id/category/jual-laptop-8750614...</td>\n",
       "      <td>ACE</td>\n",
       "      <td>Ace-Pad S11 14inch RAM 6GB ROM  1920x1080 p Fu...</td>\n",
       "      <td>321.127</td>\n",
       "      <td>//www.jd.id/product/ace-pad-s11-14inch-ram-6gb...</td>\n",
       "    </tr>\n",
       "    <tr>\n",
       "      <th>2</th>\n",
       "      <td>https://www.jd.id/category/jual-laptop-8750614...</td>\n",
       "      <td>ACE</td>\n",
       "      <td>Ace-Pad S11 14inch RAM 6GB ROM  1920x1080 p Fu...</td>\n",
       "      <td>342.370</td>\n",
       "      <td>//www.jd.id/product/ace-pad-s11-14inch-ram-6gb...</td>\n",
       "    </tr>\n",
       "    <tr>\n",
       "      <th>3</th>\n",
       "      <td>https://www.jd.id/category/jual-laptop-8750614...</td>\n",
       "      <td>ACE</td>\n",
       "      <td>Ace-Pad S156  Laptop15.6 inch Windows 10 Engli...</td>\n",
       "      <td>269.370</td>\n",
       "      <td>//www.jd.id/product/ace-pad-s156-laptop15-6-in...</td>\n",
       "    </tr>\n",
       "    <tr>\n",
       "      <th>4</th>\n",
       "      <td>https://www.jd.id/category/jual-laptop-8750614...</td>\n",
       "      <td>ACE</td>\n",
       "      <td>Ace-Pad Z156 15.6inch  6GB RAM 64GB SSD 500GB ...</td>\n",
       "      <td>342.370</td>\n",
       "      <td>//www.jd.id/product/ace-pad-z156-15-6inch-6gb-...</td>\n",
       "    </tr>\n",
       "  </tbody>\n",
       "</table>\n",
       "</div>"
      ],
      "text/plain": [
       "                                         WebsiteLink Manufacter  \\\n",
       "0  https://www.jd.id/category/jual-laptop-8750614...        ACE   \n",
       "1  https://www.jd.id/category/jual-laptop-8750614...        ACE   \n",
       "2  https://www.jd.id/category/jual-laptop-8750614...        ACE   \n",
       "3  https://www.jd.id/category/jual-laptop-8750614...        ACE   \n",
       "4  https://www.jd.id/category/jual-laptop-8750614...        ACE   \n",
       "\n",
       "                                 Product Description    Price  \\\n",
       "0  Ace-Pad S11 14inch RAM 6GB ROM  1920x1080 p Fu...  320.470   \n",
       "1  Ace-Pad S11 14inch RAM 6GB ROM  1920x1080 p Fu...  321.127   \n",
       "2  Ace-Pad S11 14inch RAM 6GB ROM  1920x1080 p Fu...  342.370   \n",
       "3  Ace-Pad S156  Laptop15.6 inch Windows 10 Engli...  269.370   \n",
       "4  Ace-Pad Z156 15.6inch  6GB RAM 64GB SSD 500GB ...  342.370   \n",
       "\n",
       "                                         ProductLink  \n",
       "0  //www.jd.id/product/ace-pad-s11-14inch-ram-6gb...  \n",
       "1  //www.jd.id/product/ace-pad-s11-14inch-ram-6gb...  \n",
       "2  //www.jd.id/product/ace-pad-s11-14inch-ram-6gb...  \n",
       "3  //www.jd.id/product/ace-pad-s156-laptop15-6-in...  \n",
       "4  //www.jd.id/product/ace-pad-z156-15-6inch-6gb-...  "
      ]
     },
     "execution_count": 21,
     "metadata": {},
     "output_type": "execute_result"
    }
   ],
   "source": [
    "Laptop_Dataset.head()"
   ]
  },
  {
   "cell_type": "code",
   "execution_count": 22,
   "metadata": {},
   "outputs": [
    {
     "data": {
      "text/html": [
       "<div>\n",
       "<style scoped>\n",
       "    .dataframe tbody tr th:only-of-type {\n",
       "        vertical-align: middle;\n",
       "    }\n",
       "\n",
       "    .dataframe tbody tr th {\n",
       "        vertical-align: top;\n",
       "    }\n",
       "\n",
       "    .dataframe thead th {\n",
       "        text-align: right;\n",
       "    }\n",
       "</style>\n",
       "<table border=\"1\" class=\"dataframe\">\n",
       "  <thead>\n",
       "    <tr style=\"text-align: right;\">\n",
       "      <th></th>\n",
       "      <th>WebsiteLink</th>\n",
       "      <th>Manufacter</th>\n",
       "      <th>Product Description</th>\n",
       "      <th>Price</th>\n",
       "      <th>ProductLink</th>\n",
       "    </tr>\n",
       "  </thead>\n",
       "  <tbody>\n",
       "    <tr>\n",
       "      <th>16651</th>\n",
       "      <td>https://www.jd.id/category/jual-laptop-8750614...</td>\n",
       "      <td>ZYREX</td>\n",
       "      <td>ZYREX Sky 232S 14\"/Intel Cel N3350/3GB/32GB Em...</td>\n",
       "      <td>172.426</td>\n",
       "      <td>//www.jd.id/product/zyrex-sky-232s-14-intel-ce...</td>\n",
       "    </tr>\n",
       "    <tr>\n",
       "      <th>16652</th>\n",
       "      <td>https://www.jd.id/category/jual-laptop-8750614...</td>\n",
       "      <td>ZYREX</td>\n",
       "      <td>ZYREX Sky 232S 14\"/Intel Cel N3350/3GB/32GB Em...</td>\n",
       "      <td>172.426</td>\n",
       "      <td>//www.jd.id/product/zyrex-sky-232s-14-intel-ce...</td>\n",
       "    </tr>\n",
       "    <tr>\n",
       "      <th>16653</th>\n",
       "      <td>https://www.jd.id/category/jual-laptop-8750614...</td>\n",
       "      <td>ZYREX</td>\n",
       "      <td>ZYREX Sky 232x 14.1\"/Celeron N3350/3GB/32GB eM...</td>\n",
       "      <td>211.627</td>\n",
       "      <td>//www.jd.id/product/zyrex-sky-232x-14-1-celero...</td>\n",
       "    </tr>\n",
       "    <tr>\n",
       "      <th>16654</th>\n",
       "      <td>https://www.jd.id/category/jual-laptop-8750614...</td>\n",
       "      <td>ZYREX</td>\n",
       "      <td>ZYREX Sky 360 13.3\"/Intel Celeron N4000/4GB/64...</td>\n",
       "      <td>364.927</td>\n",
       "      <td>//www.jd.id/product/zyrex-sky-360-13-3-intel-c...</td>\n",
       "    </tr>\n",
       "    <tr>\n",
       "      <th>16655</th>\n",
       "      <td>https://www.jd.id/category/jual-laptop-8750614...</td>\n",
       "      <td>ZYREX</td>\n",
       "      <td>ZYREX Sky 360 13.3/Intel Celeron - Silver+Micr...</td>\n",
       "      <td>403.617</td>\n",
       "      <td>//www.jd.id/product/zyrex-sky-360-13-3-intel-c...</td>\n",
       "    </tr>\n",
       "  </tbody>\n",
       "</table>\n",
       "</div>"
      ],
      "text/plain": [
       "                                             WebsiteLink Manufacter  \\\n",
       "16651  https://www.jd.id/category/jual-laptop-8750614...      ZYREX   \n",
       "16652  https://www.jd.id/category/jual-laptop-8750614...      ZYREX   \n",
       "16653  https://www.jd.id/category/jual-laptop-8750614...      ZYREX   \n",
       "16654  https://www.jd.id/category/jual-laptop-8750614...      ZYREX   \n",
       "16655  https://www.jd.id/category/jual-laptop-8750614...      ZYREX   \n",
       "\n",
       "                                     Product Description    Price  \\\n",
       "16651  ZYREX Sky 232S 14\"/Intel Cel N3350/3GB/32GB Em...  172.426   \n",
       "16652  ZYREX Sky 232S 14\"/Intel Cel N3350/3GB/32GB Em...  172.426   \n",
       "16653  ZYREX Sky 232x 14.1\"/Celeron N3350/3GB/32GB eM...  211.627   \n",
       "16654  ZYREX Sky 360 13.3\"/Intel Celeron N4000/4GB/64...  364.927   \n",
       "16655  ZYREX Sky 360 13.3/Intel Celeron - Silver+Micr...  403.617   \n",
       "\n",
       "                                             ProductLink  \n",
       "16651  //www.jd.id/product/zyrex-sky-232s-14-intel-ce...  \n",
       "16652  //www.jd.id/product/zyrex-sky-232s-14-intel-ce...  \n",
       "16653  //www.jd.id/product/zyrex-sky-232x-14-1-celero...  \n",
       "16654  //www.jd.id/product/zyrex-sky-360-13-3-intel-c...  \n",
       "16655  //www.jd.id/product/zyrex-sky-360-13-3-intel-c...  "
      ]
     },
     "execution_count": 22,
     "metadata": {},
     "output_type": "execute_result"
    }
   ],
   "source": [
    "Laptop_Dataset.tail()"
   ]
  },
  {
   "cell_type": "code",
   "execution_count": 27,
   "metadata": {},
   "outputs": [
    {
     "name": "stdout",
     "output_type": "stream",
     "text": [
      "                                     Product Description\n",
      "0      Ace-Pad S11 14inch RAM 6GB ROM  1920x1080 p Fu...\n",
      "1      Ace-Pad S11 14inch RAM 6GB ROM  1920x1080 p Fu...\n",
      "2      Ace-Pad S11 14inch RAM 6GB ROM  1920x1080 p Fu...\n",
      "3      Ace-Pad S156  Laptop15.6 inch Windows 10 Engli...\n",
      "4      Ace-Pad Z156 15.6inch  6GB RAM 64GB SSD 500GB ...\n",
      "5      Ace-Pad Z156 15.6inch  6GB RAM 64GB SSD1000GB ...\n",
      "6      ACER A315-41-R5Z6 15.6\" HD/ AMD Ryzen 7 2700U/...\n",
      "7      ACER A514-51K-31U6 NX.H9VSN 14\" HD/Intel Core ...\n",
      "8      ACER A515-41G-F79R NX.GPYSN.002 15.6\"/AMD FX-9...\n",
      "9      ACER Aspire 3 A314-32 NX.GVYSN.004 14\"/Celeron...\n",
      "10     ACER Aspire 3 A315-41G UN.GYBSD.002 15.6\"/AMD ...\n",
      "11     ACER Aspire 6 - Marvel’s Avengers: Infinity Wa...\n",
      "12     ACER Aspire A314-33-C1V8 NX.H6QSN.001 14\"/Inte...\n",
      "13     ACER Aspire A314-33-C3A1 NX.H6ASN.001 14\" HD/I...\n",
      "14     ACER Aspire A314-41-9556 NX.H6MSN.001 14\"/AMD ...\n",
      "15     ACER Aspire A314-41-983D NX.H7MSN.001 14\"/AMD ...\n",
      "16     ACER ASPIRE E5-476G NX.GXOSN.002 14\"/Intel Cor...\n",
      "17     ACER E5-476-386Q NX.GZQSN.001 14\"/Intel Core i...\n",
      "18     ACER E5-476G-32BL NXGX0SN007 14\" HD/Intel Core...\n",
      "19     ACER E5-476G-56VN NX.GX0SN.005 14\"/Intel Core ...\n",
      "20     ACER Predator Nitro 5 AN515-52 15.6\" HD/Intel ...\n",
      "21     ACER Predator Nitro 5 AN515-52 15.6\" HD/Intel ...\n",
      "22     ACER Predator Nitro 5 SPIN NP515-51 15.6\" FHD/...\n",
      "23     ACER Predator PH315-51 White Edition 15.6\" FHD...\n",
      "24     ACER Predator PH317-51 Helios 300 17\"/Core i7-...\n",
      "25     ACER Predator PH517-51 (Helios 500) 17.3\" UHD/...\n",
      "26     ACER Predator PT515-51-70Z0 15.6\" FHD/Intel Co...\n",
      "27     ACER Predator PT515-51-70Z0 15.6\" FHD/Intel Co...\n",
      "28     ACER SF314-56G-57A7 NX.H4YSN.003 14\" FHD/Intel...\n",
      "29     ACER SF314-56G-59A4 NX.H4MSN.003 14\" FHD/Intel...\n",
      "...                                                  ...\n",
      "16626  THINKPAD Yoga 10ID 12.5\"/i5-5200U/4GB/1TB+16GB...\n",
      "16627  THINKPAD Yoga 11ID 12.5\"/i5-5200U/4GB/1TB+16GB...\n",
      "16628  THINKPAD Yoga YID 12.5\"/i7-5500U/8GB/1TB+16GB ...\n",
      "16629  Toshiba Portege A30-D113 13.3\" HD/Intel Core i...\n",
      "16630  Toshiba Portege X20W-E117 12.5\" FHD Touch/Inte...\n",
      "16631  Toshiba Portege X30-D128 13.3\" FHD Touch/Intel...\n",
      "16632  Toshiba Portege X30-D129 13.3\" FHD Touch/Intel...\n",
      "16633  Toshiba Portege X30-E148 13.3\" FHD Touch/Intel...\n",
      "16634  Toshiba Portege X30-E149 13.3\" FHD Touch/Intel...\n",
      "16635  Toshiba Tecra A40-D107 14\" HD/Intel Core i5-72...\n",
      "16636                          Toshiba TECRA A40-D148 14\n",
      "16637                          Toshiba TECRA A40-D148 14\n",
      "16638  Toshiba TECRA A40-D148 14\" HD/Intel Core i5-72...\n",
      "16639  Toshiba Tecra X40-D114 14\" HD/Intel Core i7-75...\n",
      "16640  Xiaomi Mi Air Notebook 13.3 Inch i7-7500U 8GB/...\n",
      "16641           XIaomi Mi Notebook Air 12.5 Inch 4/256GB\n",
      "16642  Xiaomi Mi Notebook Air 12.5 Inch Windows 10 7t...\n",
      "16643  Xiaomi Mi Notebook Air 13.3 Inch Windows 10 La...\n",
      "16644  Xiaomi Mi Notebook Ruby Intel Core i5-8250U 15...\n",
      "16645  Xiaomi Notebook Air 13.3\" Fingerprints Intel C...\n",
      "16646  Xiaomi Notebook Air 13.3\" Intel Core i5-8250U ...\n",
      "16647  XIAOMI Notebook Air13 Win10 13.3 Intel Core i5...\n",
      "16648  YEPO 3 PRO 737A 13.3 inch Ultrabook Bezelles F...\n",
      "16649  ZYREX Sky 232 S2 14\"/Intel Celeron N3350/4GB/2...\n",
      "16650  ZYREX Sky 232 Xtreme 14.1\"/Celeron N3350/3GB/3...\n",
      "16651  ZYREX Sky 232S 14\"/Intel Cel N3350/3GB/32GB Em...\n",
      "16652  ZYREX Sky 232S 14\"/Intel Cel N3350/3GB/32GB Em...\n",
      "16653  ZYREX Sky 232x 14.1\"/Celeron N3350/3GB/32GB eM...\n",
      "16654  ZYREX Sky 360 13.3\"/Intel Celeron N4000/4GB/64...\n",
      "16655  ZYREX Sky 360 13.3/Intel Celeron - Silver+Micr...\n",
      "\n",
      "[16656 rows x 1 columns]\n"
     ]
    }
   ],
   "source": [
    "print (Laptop_Dataset [['Product Description']])"
   ]
  },
  {
   "cell_type": "code",
   "execution_count": 29,
   "metadata": {},
   "outputs": [
    {
     "ename": "AttributeError",
     "evalue": "'DataFrame' object has no attribute 'ProductDescription'",
     "output_type": "error",
     "traceback": [
      "\u001b[0;31m---------------------------------------------------------------------------\u001b[0m",
      "\u001b[0;31mAttributeError\u001b[0m                            Traceback (most recent call last)",
      "\u001b[0;32m<ipython-input-29-26fc7443c934>\u001b[0m in \u001b[0;36m<module>\u001b[0;34m\u001b[0m\n\u001b[0;32m----> 1\u001b[0;31m \u001b[0mLaptop_Dataset\u001b[0m\u001b[0;34m.\u001b[0m\u001b[0mProductDescription\u001b[0m \u001b[0;34m=\u001b[0m \u001b[0mLaptop_Dataset\u001b[0m\u001b[0;34m.\u001b[0m\u001b[0mProductDescription\u001b[0m\u001b[0;34m.\u001b[0m\u001b[0mstr\u001b[0m\u001b[0;34m.\u001b[0m\u001b[0mreplace\u001b[0m\u001b[0;34m(\u001b[0m\u001b[0;34m' '\u001b[0m\u001b[0;34m,\u001b[0m \u001b[0;34m'/'\u001b[0m\u001b[0;34m)\u001b[0m\u001b[0;34m\u001b[0m\u001b[0;34m\u001b[0m\u001b[0m\n\u001b[0m",
      "\u001b[0;32m/anaconda3/lib/python3.7/site-packages/pandas/core/generic.py\u001b[0m in \u001b[0;36m__getattr__\u001b[0;34m(self, name)\u001b[0m\n\u001b[1;32m   4374\u001b[0m             \u001b[0;32mif\u001b[0m \u001b[0mself\u001b[0m\u001b[0;34m.\u001b[0m\u001b[0m_info_axis\u001b[0m\u001b[0;34m.\u001b[0m\u001b[0m_can_hold_identifiers_and_holds_name\u001b[0m\u001b[0;34m(\u001b[0m\u001b[0mname\u001b[0m\u001b[0;34m)\u001b[0m\u001b[0;34m:\u001b[0m\u001b[0;34m\u001b[0m\u001b[0;34m\u001b[0m\u001b[0m\n\u001b[1;32m   4375\u001b[0m                 \u001b[0;32mreturn\u001b[0m \u001b[0mself\u001b[0m\u001b[0;34m[\u001b[0m\u001b[0mname\u001b[0m\u001b[0;34m]\u001b[0m\u001b[0;34m\u001b[0m\u001b[0;34m\u001b[0m\u001b[0m\n\u001b[0;32m-> 4376\u001b[0;31m             \u001b[0;32mreturn\u001b[0m \u001b[0mobject\u001b[0m\u001b[0;34m.\u001b[0m\u001b[0m__getattribute__\u001b[0m\u001b[0;34m(\u001b[0m\u001b[0mself\u001b[0m\u001b[0;34m,\u001b[0m \u001b[0mname\u001b[0m\u001b[0;34m)\u001b[0m\u001b[0;34m\u001b[0m\u001b[0;34m\u001b[0m\u001b[0m\n\u001b[0m\u001b[1;32m   4377\u001b[0m \u001b[0;34m\u001b[0m\u001b[0m\n\u001b[1;32m   4378\u001b[0m     \u001b[0;32mdef\u001b[0m \u001b[0m__setattr__\u001b[0m\u001b[0;34m(\u001b[0m\u001b[0mself\u001b[0m\u001b[0;34m,\u001b[0m \u001b[0mname\u001b[0m\u001b[0;34m,\u001b[0m \u001b[0mvalue\u001b[0m\u001b[0;34m)\u001b[0m\u001b[0;34m:\u001b[0m\u001b[0;34m\u001b[0m\u001b[0;34m\u001b[0m\u001b[0m\n",
      "\u001b[0;31mAttributeError\u001b[0m: 'DataFrame' object has no attribute 'ProductDescription'"
     ]
    }
   ],
   "source": [
    "Laptop_Dataset.ProductDescription = Laptop_Dataset.ProductDescription.str.replace(' ', '/')"
   ]
  },
  {
   "cell_type": "code",
   "execution_count": 31,
   "metadata": {},
   "outputs": [],
   "source": [
    "Laptop_Dataset.rename(columns = {'Product Description':'ProductDescription'},inplace = True)"
   ]
  },
  {
   "cell_type": "code",
   "execution_count": 32,
   "metadata": {},
   "outputs": [
    {
     "data": {
      "text/html": [
       "<div>\n",
       "<style scoped>\n",
       "    .dataframe tbody tr th:only-of-type {\n",
       "        vertical-align: middle;\n",
       "    }\n",
       "\n",
       "    .dataframe tbody tr th {\n",
       "        vertical-align: top;\n",
       "    }\n",
       "\n",
       "    .dataframe thead th {\n",
       "        text-align: right;\n",
       "    }\n",
       "</style>\n",
       "<table border=\"1\" class=\"dataframe\">\n",
       "  <thead>\n",
       "    <tr style=\"text-align: right;\">\n",
       "      <th></th>\n",
       "      <th>WebsiteLink</th>\n",
       "      <th>Manufacter</th>\n",
       "      <th>ProductDescription</th>\n",
       "      <th>Price</th>\n",
       "      <th>ProductLink</th>\n",
       "    </tr>\n",
       "  </thead>\n",
       "  <tbody>\n",
       "    <tr>\n",
       "      <th>0</th>\n",
       "      <td>https://www.jd.id/category/jual-laptop-8750614...</td>\n",
       "      <td>ACE</td>\n",
       "      <td>Ace-Pad S11 14inch RAM 6GB ROM  1920x1080 p Fu...</td>\n",
       "      <td>320.470</td>\n",
       "      <td>//www.jd.id/product/ace-pad-s11-14inch-ram-6gb...</td>\n",
       "    </tr>\n",
       "    <tr>\n",
       "      <th>1</th>\n",
       "      <td>https://www.jd.id/category/jual-laptop-8750614...</td>\n",
       "      <td>ACE</td>\n",
       "      <td>Ace-Pad S11 14inch RAM 6GB ROM  1920x1080 p Fu...</td>\n",
       "      <td>321.127</td>\n",
       "      <td>//www.jd.id/product/ace-pad-s11-14inch-ram-6gb...</td>\n",
       "    </tr>\n",
       "    <tr>\n",
       "      <th>2</th>\n",
       "      <td>https://www.jd.id/category/jual-laptop-8750614...</td>\n",
       "      <td>ACE</td>\n",
       "      <td>Ace-Pad S11 14inch RAM 6GB ROM  1920x1080 p Fu...</td>\n",
       "      <td>342.370</td>\n",
       "      <td>//www.jd.id/product/ace-pad-s11-14inch-ram-6gb...</td>\n",
       "    </tr>\n",
       "    <tr>\n",
       "      <th>3</th>\n",
       "      <td>https://www.jd.id/category/jual-laptop-8750614...</td>\n",
       "      <td>ACE</td>\n",
       "      <td>Ace-Pad S156  Laptop15.6 inch Windows 10 Engli...</td>\n",
       "      <td>269.370</td>\n",
       "      <td>//www.jd.id/product/ace-pad-s156-laptop15-6-in...</td>\n",
       "    </tr>\n",
       "    <tr>\n",
       "      <th>4</th>\n",
       "      <td>https://www.jd.id/category/jual-laptop-8750614...</td>\n",
       "      <td>ACE</td>\n",
       "      <td>Ace-Pad Z156 15.6inch  6GB RAM 64GB SSD 500GB ...</td>\n",
       "      <td>342.370</td>\n",
       "      <td>//www.jd.id/product/ace-pad-z156-15-6inch-6gb-...</td>\n",
       "    </tr>\n",
       "  </tbody>\n",
       "</table>\n",
       "</div>"
      ],
      "text/plain": [
       "                                         WebsiteLink Manufacter  \\\n",
       "0  https://www.jd.id/category/jual-laptop-8750614...        ACE   \n",
       "1  https://www.jd.id/category/jual-laptop-8750614...        ACE   \n",
       "2  https://www.jd.id/category/jual-laptop-8750614...        ACE   \n",
       "3  https://www.jd.id/category/jual-laptop-8750614...        ACE   \n",
       "4  https://www.jd.id/category/jual-laptop-8750614...        ACE   \n",
       "\n",
       "                                  ProductDescription    Price  \\\n",
       "0  Ace-Pad S11 14inch RAM 6GB ROM  1920x1080 p Fu...  320.470   \n",
       "1  Ace-Pad S11 14inch RAM 6GB ROM  1920x1080 p Fu...  321.127   \n",
       "2  Ace-Pad S11 14inch RAM 6GB ROM  1920x1080 p Fu...  342.370   \n",
       "3  Ace-Pad S156  Laptop15.6 inch Windows 10 Engli...  269.370   \n",
       "4  Ace-Pad Z156 15.6inch  6GB RAM 64GB SSD 500GB ...  342.370   \n",
       "\n",
       "                                         ProductLink  \n",
       "0  //www.jd.id/product/ace-pad-s11-14inch-ram-6gb...  \n",
       "1  //www.jd.id/product/ace-pad-s11-14inch-ram-6gb...  \n",
       "2  //www.jd.id/product/ace-pad-s11-14inch-ram-6gb...  \n",
       "3  //www.jd.id/product/ace-pad-s156-laptop15-6-in...  \n",
       "4  //www.jd.id/product/ace-pad-z156-15-6inch-6gb-...  "
      ]
     },
     "execution_count": 32,
     "metadata": {},
     "output_type": "execute_result"
    }
   ],
   "source": [
    "Laptop_Dataset.head()"
   ]
  },
  {
   "cell_type": "code",
   "execution_count": 33,
   "metadata": {},
   "outputs": [],
   "source": [
    "Laptop_Dataset.ProductDescription = Laptop_Dataset.ProductDescription.str.replace(' ', '/')"
   ]
  },
  {
   "cell_type": "code",
   "execution_count": 34,
   "metadata": {},
   "outputs": [
    {
     "data": {
      "text/html": [
       "<div>\n",
       "<style scoped>\n",
       "    .dataframe tbody tr th:only-of-type {\n",
       "        vertical-align: middle;\n",
       "    }\n",
       "\n",
       "    .dataframe tbody tr th {\n",
       "        vertical-align: top;\n",
       "    }\n",
       "\n",
       "    .dataframe thead th {\n",
       "        text-align: right;\n",
       "    }\n",
       "</style>\n",
       "<table border=\"1\" class=\"dataframe\">\n",
       "  <thead>\n",
       "    <tr style=\"text-align: right;\">\n",
       "      <th></th>\n",
       "      <th>WebsiteLink</th>\n",
       "      <th>Manufacter</th>\n",
       "      <th>ProductDescription</th>\n",
       "      <th>Price</th>\n",
       "      <th>ProductLink</th>\n",
       "    </tr>\n",
       "  </thead>\n",
       "  <tbody>\n",
       "    <tr>\n",
       "      <th>0</th>\n",
       "      <td>https://www.jd.id/category/jual-laptop-8750614...</td>\n",
       "      <td>ACE</td>\n",
       "      <td>Ace-Pad/S11/14inch/RAM/6GB/ROM//1920x1080/p/Fu...</td>\n",
       "      <td>320.470</td>\n",
       "      <td>//www.jd.id/product/ace-pad-s11-14inch-ram-6gb...</td>\n",
       "    </tr>\n",
       "    <tr>\n",
       "      <th>1</th>\n",
       "      <td>https://www.jd.id/category/jual-laptop-8750614...</td>\n",
       "      <td>ACE</td>\n",
       "      <td>Ace-Pad/S11/14inch/RAM/6GB/ROM//1920x1080/p/Fu...</td>\n",
       "      <td>321.127</td>\n",
       "      <td>//www.jd.id/product/ace-pad-s11-14inch-ram-6gb...</td>\n",
       "    </tr>\n",
       "    <tr>\n",
       "      <th>2</th>\n",
       "      <td>https://www.jd.id/category/jual-laptop-8750614...</td>\n",
       "      <td>ACE</td>\n",
       "      <td>Ace-Pad/S11/14inch/RAM/6GB/ROM//1920x1080/p/Fu...</td>\n",
       "      <td>342.370</td>\n",
       "      <td>//www.jd.id/product/ace-pad-s11-14inch-ram-6gb...</td>\n",
       "    </tr>\n",
       "    <tr>\n",
       "      <th>3</th>\n",
       "      <td>https://www.jd.id/category/jual-laptop-8750614...</td>\n",
       "      <td>ACE</td>\n",
       "      <td>Ace-Pad/S156//Laptop15.6/inch/Windows/10/Engli...</td>\n",
       "      <td>269.370</td>\n",
       "      <td>//www.jd.id/product/ace-pad-s156-laptop15-6-in...</td>\n",
       "    </tr>\n",
       "    <tr>\n",
       "      <th>4</th>\n",
       "      <td>https://www.jd.id/category/jual-laptop-8750614...</td>\n",
       "      <td>ACE</td>\n",
       "      <td>Ace-Pad/Z156/15.6inch//6GB/RAM/64GB/SSD/500GB/...</td>\n",
       "      <td>342.370</td>\n",
       "      <td>//www.jd.id/product/ace-pad-z156-15-6inch-6gb-...</td>\n",
       "    </tr>\n",
       "  </tbody>\n",
       "</table>\n",
       "</div>"
      ],
      "text/plain": [
       "                                         WebsiteLink Manufacter  \\\n",
       "0  https://www.jd.id/category/jual-laptop-8750614...        ACE   \n",
       "1  https://www.jd.id/category/jual-laptop-8750614...        ACE   \n",
       "2  https://www.jd.id/category/jual-laptop-8750614...        ACE   \n",
       "3  https://www.jd.id/category/jual-laptop-8750614...        ACE   \n",
       "4  https://www.jd.id/category/jual-laptop-8750614...        ACE   \n",
       "\n",
       "                                  ProductDescription    Price  \\\n",
       "0  Ace-Pad/S11/14inch/RAM/6GB/ROM//1920x1080/p/Fu...  320.470   \n",
       "1  Ace-Pad/S11/14inch/RAM/6GB/ROM//1920x1080/p/Fu...  321.127   \n",
       "2  Ace-Pad/S11/14inch/RAM/6GB/ROM//1920x1080/p/Fu...  342.370   \n",
       "3  Ace-Pad/S156//Laptop15.6/inch/Windows/10/Engli...  269.370   \n",
       "4  Ace-Pad/Z156/15.6inch//6GB/RAM/64GB/SSD/500GB/...  342.370   \n",
       "\n",
       "                                         ProductLink  \n",
       "0  //www.jd.id/product/ace-pad-s11-14inch-ram-6gb...  \n",
       "1  //www.jd.id/product/ace-pad-s11-14inch-ram-6gb...  \n",
       "2  //www.jd.id/product/ace-pad-s11-14inch-ram-6gb...  \n",
       "3  //www.jd.id/product/ace-pad-s156-laptop15-6-in...  \n",
       "4  //www.jd.id/product/ace-pad-z156-15-6inch-6gb-...  "
      ]
     },
     "execution_count": 34,
     "metadata": {},
     "output_type": "execute_result"
    }
   ],
   "source": [
    "Laptop_Dataset.head()"
   ]
  },
  {
   "cell_type": "code",
   "execution_count": 35,
   "metadata": {},
   "outputs": [],
   "source": [
    "Laptop_Dataset.ProductDescription = Laptop_Dataset.ProductDescription.str.replace('//', '/')"
   ]
  },
  {
   "cell_type": "code",
   "execution_count": 37,
   "metadata": {},
   "outputs": [
    {
     "name": "stdout",
     "output_type": "stream",
     "text": [
      "                                      ProductDescription\n",
      "0      Ace-Pad/S11/14inch/RAM/6GB/ROM/1920x1080/p/Ful...\n",
      "1      Ace-Pad/S11/14inch/RAM/6GB/ROM/1920x1080/p/Ful...\n",
      "2      Ace-Pad/S11/14inch/RAM/6GB/ROM/1920x1080/p/Ful...\n",
      "3      Ace-Pad/S156/Laptop15.6/inch/Windows/10/Englis...\n",
      "4      Ace-Pad/Z156/15.6inch/6GB/RAM/64GB/SSD/500GB/H...\n",
      "5      Ace-Pad/Z156/15.6inch/6GB/RAM/64GB/SSD1000GB/H...\n",
      "6      ACER/A315-41-R5Z6/15.6\"/HD/AMD/Ryzen/7/2700U/8...\n",
      "7      ACER/A514-51K-31U6/NX.H9VSN/14\"/HD/Intel/Core/...\n",
      "8      ACER/A515-41G-F79R/NX.GPYSN.002/15.6\"/AMD/FX-9...\n",
      "9      ACER/Aspire/3/A314-32/NX.GVYSN.004/14\"/Celeron...\n",
      "10     ACER/Aspire/3/A315-41G/UN.GYBSD.002/15.6\"/AMD/...\n",
      "11     ACER/Aspire/6/-/Marvel’s/Avengers:/Infinity/Wa...\n",
      "12     ACER/Aspire/A314-33-C1V8/NX.H6QSN.001/14\"/Inte...\n",
      "13     ACER/Aspire/A314-33-C3A1/NX.H6ASN.001/14\"/HD/I...\n",
      "14     ACER/Aspire/A314-41-9556/NX.H6MSN.001/14\"/AMD/...\n",
      "15     ACER/Aspire/A314-41-983D/NX.H7MSN.001/14\"/AMD/...\n",
      "16     ACER/ASPIRE/E5-476G/NX.GXOSN.002/14\"/Intel/Cor...\n",
      "17     ACER/E5-476-386Q/NX.GZQSN.001/14\"/Intel/Core/i...\n",
      "18     ACER/E5-476G-32BL/NXGX0SN007/14\"/HD/Intel/Core...\n",
      "19     ACER/E5-476G-56VN/NX.GX0SN.005/14\"/Intel/Core/...\n",
      "20     ACER/Predator/Nitro/5/AN515-52/15.6\"/HD/Intel/...\n",
      "21     ACER/Predator/Nitro/5/AN515-52/15.6\"/HD/Intel/...\n",
      "22     ACER/Predator/Nitro/5/SPIN/NP515-51/15.6\"/FHD/...\n",
      "23     ACER/Predator/PH315-51/White/Edition/15.6\"/FHD...\n",
      "24     ACER/Predator/PH317-51/Helios/300/17\"/Core/i7-...\n",
      "25     ACER/Predator/PH517-51/(Helios/500)/17.3\"/UHD/...\n",
      "26     ACER/Predator/PT515-51-70Z0/15.6\"/FHD/Intel/Co...\n",
      "27     ACER/Predator/PT515-51-70Z0/15.6\"/FHD/Intel/Co...\n",
      "28     ACER/SF314-56G-57A7/NX.H4YSN.003/14\"/FHD/Intel...\n",
      "29     ACER/SF314-56G-59A4/NX.H4MSN.003/14\"/FHD/Intel...\n",
      "...                                                  ...\n",
      "16626  THINKPAD/Yoga/10ID/12.5\"/i5-5200U/4GB/1TB+16GB...\n",
      "16627  THINKPAD/Yoga/11ID/12.5\"/i5-5200U/4GB/1TB+16GB...\n",
      "16628  THINKPAD/Yoga/YID/12.5\"/i7-5500U/8GB/1TB+16GB/...\n",
      "16629  Toshiba/Portege/A30-D113/13.3\"/HD/Intel/Core/i...\n",
      "16630  Toshiba/Portege/X20W-E117/12.5\"/FHD/Touch/Inte...\n",
      "16631  Toshiba/Portege/X30-D128/13.3\"/FHD/Touch/Intel...\n",
      "16632  Toshiba/Portege/X30-D129/13.3\"/FHD/Touch/Intel...\n",
      "16633  Toshiba/Portege/X30-E148/13.3\"/FHD/Touch/Intel...\n",
      "16634  Toshiba/Portege/X30-E149/13.3\"/FHD/Touch/Intel...\n",
      "16635  Toshiba/Tecra/A40-D107/14\"/HD/Intel/Core/i5-72...\n",
      "16636                          Toshiba/TECRA/A40-D148/14\n",
      "16637                          Toshiba/TECRA/A40-D148/14\n",
      "16638  Toshiba/TECRA/A40-D148/14\"/HD/Intel/Core/i5-72...\n",
      "16639  Toshiba/Tecra/X40-D114/14\"/HD/Intel/Core/i7-75...\n",
      "16640  Xiaomi/Mi/Air/Notebook/13.3/Inch/i7-7500U/8GB/...\n",
      "16641           XIaomi/Mi/Notebook/Air/12.5/Inch/4/256GB\n",
      "16642  Xiaomi/Mi/Notebook/Air/12.5/Inch/Windows/10/7t...\n",
      "16643  Xiaomi/Mi/Notebook/Air/13.3/Inch/Windows/10/La...\n",
      "16644  Xiaomi/Mi/Notebook/Ruby/Intel/Core/i5-8250U/15...\n",
      "16645  Xiaomi/Notebook/Air/13.3\"/Fingerprints/Intel/C...\n",
      "16646  Xiaomi/Notebook/Air/13.3\"/Intel/Core/i5-8250U/...\n",
      "16647  XIAOMI/Notebook/Air13/Win10/13.3/Intel/Core/i5...\n",
      "16648  YEPO/3/PRO/737A/13.3/inch/Ultrabook/Bezelles/F...\n",
      "16649  ZYREX/Sky/232/S2/14\"/Intel/Celeron/N3350/4GB/2...\n",
      "16650  ZYREX/Sky/232/Xtreme/14.1\"/Celeron/N3350/3GB/3...\n",
      "16651  ZYREX/Sky/232S/14\"/Intel/Cel/N3350/3GB/32GB/Em...\n",
      "16652  ZYREX/Sky/232S/14\"/Intel/Cel/N3350/3GB/32GB/Em...\n",
      "16653  ZYREX/Sky/232x/14.1\"/Celeron/N3350/3GB/32GB/eM...\n",
      "16654  ZYREX/Sky/360/13.3\"/Intel/Celeron/N4000/4GB/64...\n",
      "16655  ZYREX/Sky/360/13.3/Intel/Celeron/-/Silver+Micr...\n",
      "\n",
      "[16656 rows x 1 columns]\n"
     ]
    }
   ],
   "source": [
    "print (Laptop_Dataset [['ProductDescription']])"
   ]
  },
  {
   "cell_type": "code",
   "execution_count": 38,
   "metadata": {},
   "outputs": [],
   "source": [
    "Laptop_Dataset.ProductDescription = Laptop_Dataset.ProductDescription.str.lstrip()\n"
   ]
  },
  {
   "cell_type": "code",
   "execution_count": 39,
   "metadata": {},
   "outputs": [
    {
     "name": "stdout",
     "output_type": "stream",
     "text": [
      "                                      ProductDescription\n",
      "0      Ace-Pad/S11/14inch/RAM/6GB/ROM/1920x1080/p/Ful...\n",
      "1      Ace-Pad/S11/14inch/RAM/6GB/ROM/1920x1080/p/Ful...\n",
      "2      Ace-Pad/S11/14inch/RAM/6GB/ROM/1920x1080/p/Ful...\n",
      "3      Ace-Pad/S156/Laptop15.6/inch/Windows/10/Englis...\n",
      "4      Ace-Pad/Z156/15.6inch/6GB/RAM/64GB/SSD/500GB/H...\n",
      "5      Ace-Pad/Z156/15.6inch/6GB/RAM/64GB/SSD1000GB/H...\n",
      "6      ACER/A315-41-R5Z6/15.6\"/HD/AMD/Ryzen/7/2700U/8...\n",
      "7      ACER/A514-51K-31U6/NX.H9VSN/14\"/HD/Intel/Core/...\n",
      "8      ACER/A515-41G-F79R/NX.GPYSN.002/15.6\"/AMD/FX-9...\n",
      "9      ACER/Aspire/3/A314-32/NX.GVYSN.004/14\"/Celeron...\n",
      "10     ACER/Aspire/3/A315-41G/UN.GYBSD.002/15.6\"/AMD/...\n",
      "11     ACER/Aspire/6/-/Marvel’s/Avengers:/Infinity/Wa...\n",
      "12     ACER/Aspire/A314-33-C1V8/NX.H6QSN.001/14\"/Inte...\n",
      "13     ACER/Aspire/A314-33-C3A1/NX.H6ASN.001/14\"/HD/I...\n",
      "14     ACER/Aspire/A314-41-9556/NX.H6MSN.001/14\"/AMD/...\n",
      "15     ACER/Aspire/A314-41-983D/NX.H7MSN.001/14\"/AMD/...\n",
      "16     ACER/ASPIRE/E5-476G/NX.GXOSN.002/14\"/Intel/Cor...\n",
      "17     ACER/E5-476-386Q/NX.GZQSN.001/14\"/Intel/Core/i...\n",
      "18     ACER/E5-476G-32BL/NXGX0SN007/14\"/HD/Intel/Core...\n",
      "19     ACER/E5-476G-56VN/NX.GX0SN.005/14\"/Intel/Core/...\n",
      "20     ACER/Predator/Nitro/5/AN515-52/15.6\"/HD/Intel/...\n",
      "21     ACER/Predator/Nitro/5/AN515-52/15.6\"/HD/Intel/...\n",
      "22     ACER/Predator/Nitro/5/SPIN/NP515-51/15.6\"/FHD/...\n",
      "23     ACER/Predator/PH315-51/White/Edition/15.6\"/FHD...\n",
      "24     ACER/Predator/PH317-51/Helios/300/17\"/Core/i7-...\n",
      "25     ACER/Predator/PH517-51/(Helios/500)/17.3\"/UHD/...\n",
      "26     ACER/Predator/PT515-51-70Z0/15.6\"/FHD/Intel/Co...\n",
      "27     ACER/Predator/PT515-51-70Z0/15.6\"/FHD/Intel/Co...\n",
      "28     ACER/SF314-56G-57A7/NX.H4YSN.003/14\"/FHD/Intel...\n",
      "29     ACER/SF314-56G-59A4/NX.H4MSN.003/14\"/FHD/Intel...\n",
      "...                                                  ...\n",
      "16626  THINKPAD/Yoga/10ID/12.5\"/i5-5200U/4GB/1TB+16GB...\n",
      "16627  THINKPAD/Yoga/11ID/12.5\"/i5-5200U/4GB/1TB+16GB...\n",
      "16628  THINKPAD/Yoga/YID/12.5\"/i7-5500U/8GB/1TB+16GB/...\n",
      "16629  Toshiba/Portege/A30-D113/13.3\"/HD/Intel/Core/i...\n",
      "16630  Toshiba/Portege/X20W-E117/12.5\"/FHD/Touch/Inte...\n",
      "16631  Toshiba/Portege/X30-D128/13.3\"/FHD/Touch/Intel...\n",
      "16632  Toshiba/Portege/X30-D129/13.3\"/FHD/Touch/Intel...\n",
      "16633  Toshiba/Portege/X30-E148/13.3\"/FHD/Touch/Intel...\n",
      "16634  Toshiba/Portege/X30-E149/13.3\"/FHD/Touch/Intel...\n",
      "16635  Toshiba/Tecra/A40-D107/14\"/HD/Intel/Core/i5-72...\n",
      "16636                          Toshiba/TECRA/A40-D148/14\n",
      "16637                          Toshiba/TECRA/A40-D148/14\n",
      "16638  Toshiba/TECRA/A40-D148/14\"/HD/Intel/Core/i5-72...\n",
      "16639  Toshiba/Tecra/X40-D114/14\"/HD/Intel/Core/i7-75...\n",
      "16640  Xiaomi/Mi/Air/Notebook/13.3/Inch/i7-7500U/8GB/...\n",
      "16641           XIaomi/Mi/Notebook/Air/12.5/Inch/4/256GB\n",
      "16642  Xiaomi/Mi/Notebook/Air/12.5/Inch/Windows/10/7t...\n",
      "16643  Xiaomi/Mi/Notebook/Air/13.3/Inch/Windows/10/La...\n",
      "16644  Xiaomi/Mi/Notebook/Ruby/Intel/Core/i5-8250U/15...\n",
      "16645  Xiaomi/Notebook/Air/13.3\"/Fingerprints/Intel/C...\n",
      "16646  Xiaomi/Notebook/Air/13.3\"/Intel/Core/i5-8250U/...\n",
      "16647  XIAOMI/Notebook/Air13/Win10/13.3/Intel/Core/i5...\n",
      "16648  YEPO/3/PRO/737A/13.3/inch/Ultrabook/Bezelles/F...\n",
      "16649  ZYREX/Sky/232/S2/14\"/Intel/Celeron/N3350/4GB/2...\n",
      "16650  ZYREX/Sky/232/Xtreme/14.1\"/Celeron/N3350/3GB/3...\n",
      "16651  ZYREX/Sky/232S/14\"/Intel/Cel/N3350/3GB/32GB/Em...\n",
      "16652  ZYREX/Sky/232S/14\"/Intel/Cel/N3350/3GB/32GB/Em...\n",
      "16653  ZYREX/Sky/232x/14.1\"/Celeron/N3350/3GB/32GB/eM...\n",
      "16654  ZYREX/Sky/360/13.3\"/Intel/Celeron/N4000/4GB/64...\n",
      "16655  ZYREX/Sky/360/13.3/Intel/Celeron/-/Silver+Micr...\n",
      "\n",
      "[16656 rows x 1 columns]\n"
     ]
    }
   ],
   "source": [
    "print (Laptop_Dataset [['ProductDescription']])"
   ]
  },
  {
   "cell_type": "code",
   "execution_count": 40,
   "metadata": {},
   "outputs": [],
   "source": [
    "Laptop_Dataset.ProductDescription = Laptop_Dataset.ProductDescription.str.strip()\n"
   ]
  },
  {
   "cell_type": "code",
   "execution_count": 41,
   "metadata": {},
   "outputs": [
    {
     "name": "stdout",
     "output_type": "stream",
     "text": [
      "                                      ProductDescription\n",
      "0      Ace-Pad/S11/14inch/RAM/6GB/ROM/1920x1080/p/Ful...\n",
      "1      Ace-Pad/S11/14inch/RAM/6GB/ROM/1920x1080/p/Ful...\n",
      "2      Ace-Pad/S11/14inch/RAM/6GB/ROM/1920x1080/p/Ful...\n",
      "3      Ace-Pad/S156/Laptop15.6/inch/Windows/10/Englis...\n",
      "4      Ace-Pad/Z156/15.6inch/6GB/RAM/64GB/SSD/500GB/H...\n",
      "5      Ace-Pad/Z156/15.6inch/6GB/RAM/64GB/SSD1000GB/H...\n",
      "6      ACER/A315-41-R5Z6/15.6\"/HD/AMD/Ryzen/7/2700U/8...\n",
      "7      ACER/A514-51K-31U6/NX.H9VSN/14\"/HD/Intel/Core/...\n",
      "8      ACER/A515-41G-F79R/NX.GPYSN.002/15.6\"/AMD/FX-9...\n",
      "9      ACER/Aspire/3/A314-32/NX.GVYSN.004/14\"/Celeron...\n",
      "10     ACER/Aspire/3/A315-41G/UN.GYBSD.002/15.6\"/AMD/...\n",
      "11     ACER/Aspire/6/-/Marvel’s/Avengers:/Infinity/Wa...\n",
      "12     ACER/Aspire/A314-33-C1V8/NX.H6QSN.001/14\"/Inte...\n",
      "13     ACER/Aspire/A314-33-C3A1/NX.H6ASN.001/14\"/HD/I...\n",
      "14     ACER/Aspire/A314-41-9556/NX.H6MSN.001/14\"/AMD/...\n",
      "15     ACER/Aspire/A314-41-983D/NX.H7MSN.001/14\"/AMD/...\n",
      "16     ACER/ASPIRE/E5-476G/NX.GXOSN.002/14\"/Intel/Cor...\n",
      "17     ACER/E5-476-386Q/NX.GZQSN.001/14\"/Intel/Core/i...\n",
      "18     ACER/E5-476G-32BL/NXGX0SN007/14\"/HD/Intel/Core...\n",
      "19     ACER/E5-476G-56VN/NX.GX0SN.005/14\"/Intel/Core/...\n",
      "20     ACER/Predator/Nitro/5/AN515-52/15.6\"/HD/Intel/...\n",
      "21     ACER/Predator/Nitro/5/AN515-52/15.6\"/HD/Intel/...\n",
      "22     ACER/Predator/Nitro/5/SPIN/NP515-51/15.6\"/FHD/...\n",
      "23     ACER/Predator/PH315-51/White/Edition/15.6\"/FHD...\n",
      "24     ACER/Predator/PH317-51/Helios/300/17\"/Core/i7-...\n",
      "25     ACER/Predator/PH517-51/(Helios/500)/17.3\"/UHD/...\n",
      "26     ACER/Predator/PT515-51-70Z0/15.6\"/FHD/Intel/Co...\n",
      "27     ACER/Predator/PT515-51-70Z0/15.6\"/FHD/Intel/Co...\n",
      "28     ACER/SF314-56G-57A7/NX.H4YSN.003/14\"/FHD/Intel...\n",
      "29     ACER/SF314-56G-59A4/NX.H4MSN.003/14\"/FHD/Intel...\n",
      "...                                                  ...\n",
      "16626  THINKPAD/Yoga/10ID/12.5\"/i5-5200U/4GB/1TB+16GB...\n",
      "16627  THINKPAD/Yoga/11ID/12.5\"/i5-5200U/4GB/1TB+16GB...\n",
      "16628  THINKPAD/Yoga/YID/12.5\"/i7-5500U/8GB/1TB+16GB/...\n",
      "16629  Toshiba/Portege/A30-D113/13.3\"/HD/Intel/Core/i...\n",
      "16630  Toshiba/Portege/X20W-E117/12.5\"/FHD/Touch/Inte...\n",
      "16631  Toshiba/Portege/X30-D128/13.3\"/FHD/Touch/Intel...\n",
      "16632  Toshiba/Portege/X30-D129/13.3\"/FHD/Touch/Intel...\n",
      "16633  Toshiba/Portege/X30-E148/13.3\"/FHD/Touch/Intel...\n",
      "16634  Toshiba/Portege/X30-E149/13.3\"/FHD/Touch/Intel...\n",
      "16635  Toshiba/Tecra/A40-D107/14\"/HD/Intel/Core/i5-72...\n",
      "16636                          Toshiba/TECRA/A40-D148/14\n",
      "16637                          Toshiba/TECRA/A40-D148/14\n",
      "16638  Toshiba/TECRA/A40-D148/14\"/HD/Intel/Core/i5-72...\n",
      "16639  Toshiba/Tecra/X40-D114/14\"/HD/Intel/Core/i7-75...\n",
      "16640  Xiaomi/Mi/Air/Notebook/13.3/Inch/i7-7500U/8GB/...\n",
      "16641           XIaomi/Mi/Notebook/Air/12.5/Inch/4/256GB\n",
      "16642  Xiaomi/Mi/Notebook/Air/12.5/Inch/Windows/10/7t...\n",
      "16643  Xiaomi/Mi/Notebook/Air/13.3/Inch/Windows/10/La...\n",
      "16644  Xiaomi/Mi/Notebook/Ruby/Intel/Core/i5-8250U/15...\n",
      "16645  Xiaomi/Notebook/Air/13.3\"/Fingerprints/Intel/C...\n",
      "16646  Xiaomi/Notebook/Air/13.3\"/Intel/Core/i5-8250U/...\n",
      "16647  XIAOMI/Notebook/Air13/Win10/13.3/Intel/Core/i5...\n",
      "16648  YEPO/3/PRO/737A/13.3/inch/Ultrabook/Bezelles/F...\n",
      "16649  ZYREX/Sky/232/S2/14\"/Intel/Celeron/N3350/4GB/2...\n",
      "16650  ZYREX/Sky/232/Xtreme/14.1\"/Celeron/N3350/3GB/3...\n",
      "16651  ZYREX/Sky/232S/14\"/Intel/Cel/N3350/3GB/32GB/Em...\n",
      "16652  ZYREX/Sky/232S/14\"/Intel/Cel/N3350/3GB/32GB/Em...\n",
      "16653  ZYREX/Sky/232x/14.1\"/Celeron/N3350/3GB/32GB/eM...\n",
      "16654  ZYREX/Sky/360/13.3\"/Intel/Celeron/N4000/4GB/64...\n",
      "16655  ZYREX/Sky/360/13.3/Intel/Celeron/-/Silver+Micr...\n",
      "\n",
      "[16656 rows x 1 columns]\n"
     ]
    }
   ],
   "source": [
    "print (Laptop_Dataset [['ProductDescription']])"
   ]
  },
  {
   "cell_type": "code",
   "execution_count": 42,
   "metadata": {},
   "outputs": [
    {
     "name": "stdout",
     "output_type": "stream",
     "text": [
      "                                             WebsiteLink Manufacter  \\\n",
      "16636  https://www.jd.id/category/jual-laptop-8750614...    TOSHIBA   \n",
      "\n",
      "              ProductDescription    Price  \\\n",
      "16636  Toshiba/TECRA/A40-D148/14  875.927   \n",
      "\n",
      "                                             ProductLink  \n",
      "16636  //www.jd.id/product/toshiba-tecra-a40-d148-14_...  \n"
     ]
    }
   ],
   "source": [
    "print(Laptop_Dataset.loc[[16636]])\n"
   ]
  },
  {
   "cell_type": "code",
   "execution_count": 43,
   "metadata": {},
   "outputs": [
    {
     "name": "stdout",
     "output_type": "stream",
     "text": [
      "                                             WebsiteLink Manufacter  \\\n",
      "16637  https://www.jd.id/category/jual-laptop-8750614...    TOSHIBA   \n",
      "\n",
      "              ProductDescription    Price  \\\n",
      "16637  Toshiba/TECRA/A40-D148/14  875.927   \n",
      "\n",
      "                                             ProductLink  \n",
      "16637  //www.jd.id/product/toshiba-tecra-a40-d148-14_...  \n"
     ]
    }
   ],
   "source": [
    "print(Laptop_Dataset.loc[[16637]])\n"
   ]
  },
  {
   "cell_type": "code",
   "execution_count": 44,
   "metadata": {},
   "outputs": [
    {
     "name": "stdout",
     "output_type": "stream",
     "text": [
      "                                             WebsiteLink Manufacter  \\\n",
      "16634  https://www.jd.id/category/jual-laptop-8750614...    TOSHIBA   \n",
      "\n",
      "                                      ProductDescription     Price  \\\n",
      "16634  Toshiba/Portege/X30-E149/13.3\"/FHD/Touch/Intel...  2481.927   \n",
      "\n",
      "                                             ProductLink  \n",
      "16634  //www.jd.id/product/toshiba-portege-x30-e149-1...  \n"
     ]
    }
   ],
   "source": [
    "print(Laptop_Dataset.loc[[16634]])\n"
   ]
  },
  {
   "cell_type": "code",
   "execution_count": 45,
   "metadata": {},
   "outputs": [
    {
     "data": {
      "text/html": [
       "<div>\n",
       "<style scoped>\n",
       "    .dataframe tbody tr th:only-of-type {\n",
       "        vertical-align: middle;\n",
       "    }\n",
       "\n",
       "    .dataframe tbody tr th {\n",
       "        vertical-align: top;\n",
       "    }\n",
       "\n",
       "    .dataframe thead th {\n",
       "        text-align: right;\n",
       "    }\n",
       "</style>\n",
       "<table border=\"1\" class=\"dataframe\">\n",
       "  <thead>\n",
       "    <tr style=\"text-align: right;\">\n",
       "      <th></th>\n",
       "      <th>WebsiteLink</th>\n",
       "      <th>Manufacter</th>\n",
       "      <th>ProductDescription</th>\n",
       "      <th>Price</th>\n",
       "      <th>ProductLink</th>\n",
       "    </tr>\n",
       "  </thead>\n",
       "  <tbody>\n",
       "    <tr>\n",
       "      <th>16651</th>\n",
       "      <td>https://www.jd.id/category/jual-laptop-8750614...</td>\n",
       "      <td>ZYREX</td>\n",
       "      <td>ZYREX/Sky/232S/14\"/Intel/Cel/N3350/3GB/32GB/Em...</td>\n",
       "      <td>172.426</td>\n",
       "      <td>//www.jd.id/product/zyrex-sky-232s-14-intel-ce...</td>\n",
       "    </tr>\n",
       "    <tr>\n",
       "      <th>16652</th>\n",
       "      <td>https://www.jd.id/category/jual-laptop-8750614...</td>\n",
       "      <td>ZYREX</td>\n",
       "      <td>ZYREX/Sky/232S/14\"/Intel/Cel/N3350/3GB/32GB/Em...</td>\n",
       "      <td>172.426</td>\n",
       "      <td>//www.jd.id/product/zyrex-sky-232s-14-intel-ce...</td>\n",
       "    </tr>\n",
       "    <tr>\n",
       "      <th>16653</th>\n",
       "      <td>https://www.jd.id/category/jual-laptop-8750614...</td>\n",
       "      <td>ZYREX</td>\n",
       "      <td>ZYREX/Sky/232x/14.1\"/Celeron/N3350/3GB/32GB/eM...</td>\n",
       "      <td>211.627</td>\n",
       "      <td>//www.jd.id/product/zyrex-sky-232x-14-1-celero...</td>\n",
       "    </tr>\n",
       "    <tr>\n",
       "      <th>16654</th>\n",
       "      <td>https://www.jd.id/category/jual-laptop-8750614...</td>\n",
       "      <td>ZYREX</td>\n",
       "      <td>ZYREX/Sky/360/13.3\"/Intel/Celeron/N4000/4GB/64...</td>\n",
       "      <td>364.927</td>\n",
       "      <td>//www.jd.id/product/zyrex-sky-360-13-3-intel-c...</td>\n",
       "    </tr>\n",
       "    <tr>\n",
       "      <th>16655</th>\n",
       "      <td>https://www.jd.id/category/jual-laptop-8750614...</td>\n",
       "      <td>ZYREX</td>\n",
       "      <td>ZYREX/Sky/360/13.3/Intel/Celeron/-/Silver+Micr...</td>\n",
       "      <td>403.617</td>\n",
       "      <td>//www.jd.id/product/zyrex-sky-360-13-3-intel-c...</td>\n",
       "    </tr>\n",
       "  </tbody>\n",
       "</table>\n",
       "</div>"
      ],
      "text/plain": [
       "                                             WebsiteLink Manufacter  \\\n",
       "16651  https://www.jd.id/category/jual-laptop-8750614...      ZYREX   \n",
       "16652  https://www.jd.id/category/jual-laptop-8750614...      ZYREX   \n",
       "16653  https://www.jd.id/category/jual-laptop-8750614...      ZYREX   \n",
       "16654  https://www.jd.id/category/jual-laptop-8750614...      ZYREX   \n",
       "16655  https://www.jd.id/category/jual-laptop-8750614...      ZYREX   \n",
       "\n",
       "                                      ProductDescription    Price  \\\n",
       "16651  ZYREX/Sky/232S/14\"/Intel/Cel/N3350/3GB/32GB/Em...  172.426   \n",
       "16652  ZYREX/Sky/232S/14\"/Intel/Cel/N3350/3GB/32GB/Em...  172.426   \n",
       "16653  ZYREX/Sky/232x/14.1\"/Celeron/N3350/3GB/32GB/eM...  211.627   \n",
       "16654  ZYREX/Sky/360/13.3\"/Intel/Celeron/N4000/4GB/64...  364.927   \n",
       "16655  ZYREX/Sky/360/13.3/Intel/Celeron/-/Silver+Micr...  403.617   \n",
       "\n",
       "                                             ProductLink  \n",
       "16651  //www.jd.id/product/zyrex-sky-232s-14-intel-ce...  \n",
       "16652  //www.jd.id/product/zyrex-sky-232s-14-intel-ce...  \n",
       "16653  //www.jd.id/product/zyrex-sky-232x-14-1-celero...  \n",
       "16654  //www.jd.id/product/zyrex-sky-360-13-3-intel-c...  \n",
       "16655  //www.jd.id/product/zyrex-sky-360-13-3-intel-c...  "
      ]
     },
     "execution_count": 45,
     "metadata": {},
     "output_type": "execute_result"
    }
   ],
   "source": [
    "Laptop_Dataset.tail()"
   ]
  }
 ],
 "metadata": {
  "kernelspec": {
   "display_name": "Python 3",
   "language": "python",
   "name": "python3"
  },
  "language_info": {
   "codemirror_mode": {
    "name": "ipython",
    "version": 3
   },
   "file_extension": ".py",
   "mimetype": "text/x-python",
   "name": "python",
   "nbconvert_exporter": "python",
   "pygments_lexer": "ipython3",
   "version": "3.7.5"
  }
 },
 "nbformat": 4,
 "nbformat_minor": 2
}
